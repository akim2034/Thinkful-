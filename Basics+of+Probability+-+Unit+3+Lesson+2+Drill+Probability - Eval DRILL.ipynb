{
 "cells": [
  {
   "cell_type": "markdown",
   "metadata": {},
   "source": [
    "**In data, conditional variables (conditional and dependent are synonymous, however, because a 'dependent variable' has a specific meaning in experimental design, we will use conditional when referring to variables) in a dataset contribute less information than independent variables, because some information is duplicated among conditional variables.** \n",
    "\n",
    "*Is the statement above accurate??*\n",
    "\n",
    "For example, a survey may ask four questions: 1) a customer's age, 2) their income, 3) whether they bought any widgets that month, and 4) how much money they spent on widgets that month. The age and income variables are independent in the sample space: While knowing someone's age may give some hints about their income, there is enough variability in incomes between people of the same age that every datapoint is giving new information. Similarly, while the income variable is probably related to how much money people have available to spend on widgets, people with the same income may buy different amounts of widgets (or no widgets at all), so each datapoint provides new information for both variables.\n",
    "Questions three and four, on the other hand, are conditional. If someone says that they didn't buy any widgets in the last month, we already know they spent $0 on widgets. Conversely, if someone says they spent $0 on widgets last month, we already know they didn't buy any widgets. The two variables aren't perfect duplicates, since knowing someone did buy one or more widgets isn't the same as knowing how much money they spent, but for at least some cases, knowing the answer to question 3 means we can be 100% certain that we know the answer to question 4 (and vice versa).\n",
    "\n"
   ]
  },
  {
   "cell_type": "markdown",
   "metadata": {},
   "source": [
    "1/16\n",
    "\n",
    "24/45\n",
    "\n",
    ".0005%\n",
    "\n",
    "It's not a representative sample because it disregards customers who spend time on the website but do not click on any links."
   ]
  },
  {
   "cell_type": "markdown",
   "metadata": {},
   "source": [
    "Holidays will affect this. There may be more guests in the neighborhood because of travelers during the holiday season. Or there may be less guests because people want to stay at their homes. Pick a different timeframe or specify question for holiday travel patterns only. \n",
    "\n",
    "\n",
    "Mental health uses will be different in NYC vs. SF on September 12, 2001 because of the attack of the World Trade Center. Pick different days for study or adjust question to aftermath study of patterns after terrorist attack.\n",
    "\n",
    "The survey is limited primarily to students on campus. Their reasons for visiting local pubs is biased. Limit study question to Armenian student behaviors. \n"
   ]
  }
 ],
 "metadata": {
  "kernelspec": {
   "display_name": "Python 3",
   "language": "python",
   "name": "python3"
  },
  "language_info": {
   "codemirror_mode": {
    "name": "ipython",
    "version": 3
   },
   "file_extension": ".py",
   "mimetype": "text/x-python",
   "name": "python",
   "nbconvert_exporter": "python",
   "pygments_lexer": "ipython3",
   "version": "3.6.3"
  }
 },
 "nbformat": 4,
 "nbformat_minor": 2
}
