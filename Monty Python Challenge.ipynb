{
 "cells": [
  {
   "cell_type": "markdown",
   "metadata": {},
   "source": [
    "You are on a game show and given the choice of whatever is behind three doors. Behind one door is a fantastic prize (some examples use a car, others use cash) while behind the other two doors is a dud (some examples say a goat, others say it's just empty). You pick a door. Then the host opens one of the other two doors to reveal a dud. But here's the wrinkle: the host now gives you the opportunity to switch your door. What should you do?"
   ]
  },
  {
   "cell_type": "markdown",
   "metadata": {},
   "source": [
    "You should switch doors because once the host picks out one of the goats, you have a 66% chance of switching doors to pick the prize correctly. While intuitively it makes sense to think there will be no difference in whether you stick with your first door or switch, if you look at it from a probability perspective, you have only a 33% chance of winning if you stay with your first choice versus 66% chance of winning if you switch. Therefore, you should switch when given the opportunity. \n",
    "\n"
   ]
  }
 ],
 "metadata": {
  "kernelspec": {
   "display_name": "Python 3",
   "language": "python",
   "name": "python3"
  },
  "language_info": {
   "codemirror_mode": {
    "name": "ipython",
    "version": 3
   },
   "file_extension": ".py",
   "mimetype": "text/x-python",
   "name": "python",
   "nbconvert_exporter": "python",
   "pygments_lexer": "ipython3",
   "version": "3.6.3"
  }
 },
 "nbformat": 4,
 "nbformat_minor": 2
}
