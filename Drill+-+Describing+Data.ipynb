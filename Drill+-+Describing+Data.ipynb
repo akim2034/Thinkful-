{
 "cells": [
  {
   "attachments": {},
   "cell_type": "markdown",
   "metadata": {},
   "source": [
    "Greg = 14\n",
    "Marcia = 12 \n",
    "Peter = 11\n",
    "Jan = 10\n",
    "Bobby = 8\n",
    "Cindy = 6\n",
    "Cousin Oliver = 8\n",
    "\n",
    "Mean = 9.857142857\n",
    "Median = 10\n",
    "Mode = 8\n",
    "Var = 6.408163265\n",
    "Std = 2.531435021\n",
    "Se = 0.956792504"
   ]
  },
  {
   "cell_type": "code",
   "execution_count": 1,
   "metadata": {},
   "outputs": [
    {
     "data": {
      "text/plain": [
       "count     7.000000\n",
       "mean      9.857143\n",
       "std       2.734262\n",
       "min       6.000000\n",
       "25%       8.000000\n",
       "50%      10.000000\n",
       "75%      11.500000\n",
       "max      14.000000\n",
       "Name: age, dtype: float64"
      ]
     },
     "execution_count": 1,
     "metadata": {},
     "output_type": "execute_result"
    }
   ],
   "source": [
    "import pandas as pd\n",
    "import numpy as np\n",
    "import statistics\n",
    "import matplotlib.pyplot as plt\n",
    "%matplotlib inline\n",
    "\n",
    "df = pd.DataFrame()\n",
    "df['age'] = [14, 12, 11, 10, 8, 6, 8]\n",
    "\n",
    "df['age'].describe()"
   ]
  },
  {
   "cell_type": "code",
   "execution_count": 2,
   "metadata": {},
   "outputs": [],
   "source": [
    "#statistics.mode(df['age'])"
   ]
  },
  {
   "cell_type": "code",
   "execution_count": 3,
   "metadata": {},
   "outputs": [
    {
     "data": {
      "text/plain": [
       "2.531435020952764"
      ]
     },
     "execution_count": 3,
     "metadata": {},
     "output_type": "execute_result"
    }
   ],
   "source": [
    "np.std(df['age'], ddof=0)"
   ]
  },
  {
   "cell_type": "code",
   "execution_count": 4,
   "metadata": {},
   "outputs": [
    {
     "data": {
      "text/plain": [
       "6.408163265306122"
      ]
     },
     "execution_count": 4,
     "metadata": {},
     "output_type": "execute_result"
    }
   ],
   "source": [
    "np.var(df['age'], ddof=0)"
   ]
  },
  {
   "cell_type": "code",
   "execution_count": 5,
   "metadata": {},
   "outputs": [
    {
     "data": {
      "text/plain": [
       "0.95679250365151347"
      ]
     },
     "execution_count": 5,
     "metadata": {},
     "output_type": "execute_result"
    }
   ],
   "source": [
    "np.std(df['age'])/np.sqrt(len(df['age']))"
   ]
  },
  {
   "cell_type": "markdown",
   "metadata": {},
   "source": [
    "## *Question\n",
    "\n",
    "For this activity, would I use Std, Var and SE for the population or the sample? I figured because I'm using data for all of the kids listed, I would be finding for the population. "
   ]
  },
  {
   "cell_type": "markdown",
   "metadata": {},
   "source": [
    "Using these estimates, if you had to choose only one estimate of central tendency and one estimate of variance to describe the data, which would you pick and why?\n",
    "\n",
    "I would pick the mean at 9.9 with std at 2.5. While the median is close at 10, the mean at 9.9 does a slightly better job capturing the skew to the left because of the two lower ages at 8. The std does a good job capturing the narrow distribution of the data set. "
   ]
  },
  {
   "cell_type": "markdown",
   "metadata": {},
   "source": [
    "After Cindy turns 7, mean, std, var and se changes. But mode and median remains the same. "
   ]
  },
  {
   "cell_type": "markdown",
   "metadata": {},
   "source": [
    "After replacing Oliver with a 1-year old Jessica, I would use median at 10 as the central tendency because it doesn't significantly skew the data to the left. For the measure of variance, I would still use std because at 4.0 it shows how much wider the distribution got compared to the last dataset. "
   ]
  },
  {
   "cell_type": "code",
   "execution_count": 6,
   "metadata": {},
   "outputs": [
    {
     "data": {
      "text/plain": [
       "count     4.000000\n",
       "mean     16.250000\n",
       "std       7.889867\n",
       "min       5.000000\n",
       "25%      14.000000\n",
       "50%      18.500000\n",
       "75%      20.750000\n",
       "max      23.000000\n",
       "Name: ratings, dtype: float64"
      ]
     },
     "execution_count": 6,
     "metadata": {},
     "output_type": "execute_result"
    }
   ],
   "source": [
    "df = pd.DataFrame()\n",
    "df['ratings'] = [20, 23, 17, 5]\n",
    "\n",
    "df['ratings'].describe()"
   ]
  },
  {
   "cell_type": "markdown",
   "metadata": {},
   "source": [
    "I would say around 18.5% of adults were fans of the Brady Bunch. The SciPhi Fanatic subscribers are a niche group so their ratings wouldn't be an accurate portrayal of the general adult population's sentiments. Hence, their 5% result is an outlier. However, with broader groups like the 3 other subscription, we probably get a more reflective result of the population. Hence, the median, which is not heavily influenced by outliers is the better measure of central tendency here. "
   ]
  }
 ],
 "metadata": {
  "kernelspec": {
   "display_name": "Python 3",
   "language": "python",
   "name": "python3"
  },
  "language_info": {
   "codemirror_mode": {
    "name": "ipython",
    "version": 3
   },
   "file_extension": ".py",
   "mimetype": "text/x-python",
   "name": "python",
   "nbconvert_exporter": "python",
   "pygments_lexer": "ipython3",
   "version": "3.6.3"
  }
 },
 "nbformat": 4,
 "nbformat_minor": 2
}
