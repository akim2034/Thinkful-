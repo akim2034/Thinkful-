{
 "cells": [
  {
   "cell_type": "markdown",
   "metadata": {},
   "source": [
    "# What makes a TED Talk great? \n",
    "\n",
    "Ever since TED published its talks in 2015, TED has gained tremendous traction on the web to reach millions through its insightful content from experts in all backgrounds. But what makes a TED Talk great? In this analysis, I look at outcomes and the variables that contribute to those outcomes. \n",
    "\n",
    "**Outline:**\n",
    "* Introduction\n",
    "* What is great?\n",
    "* What do great TED Talks have in common?\n",
    "    * Duration\n",
    "    * Speaker's Occupation\n",
    "    * Themes \n",
    "* Summary\n",
    "* Topics for Further Research "
   ]
  },
  {
   "cell_type": "markdown",
   "metadata": {},
   "source": [
    "## I. Introduction\n",
    "\n",
    "**Methodology:** For this study, I accessed data hosted on Kaggle. The dataset is available through this link: https://www.kaggle.com/rounakbanik/ted-talks. The metric I use as the outcome of success is views. While comments, shares and ratings can also be used as outcomes for success, these metrics are either not clearly defined in the dataset or require advanced data science techniques to analyze. Considerations for leveraging these metrics are described in the section for topics for further research. The variables that I explore are duration, speaker's occupation and themes. "
   ]
  },
  {
   "cell_type": "code",
   "execution_count": 1,
   "metadata": {},
   "outputs": [
    {
     "data": {
      "text/plain": [
       "Index(['comments', 'description', 'duration', 'event', 'film_date',\n",
       "       'languages', 'main_speaker', 'name', 'num_speaker', 'published_date',\n",
       "       'ratings', 'related_talks', 'speaker_occupation', 'tags', 'title',\n",
       "       'url', 'views'],\n",
       "      dtype='object')"
      ]
     },
     "execution_count": 1,
     "metadata": {},
     "output_type": "execute_result"
    }
   ],
   "source": [
    "# Load Python libraries.\n",
    "import numpy as np\n",
    "import pandas as pd\n",
    "import seaborn as sns\n",
    "import matplotlib.pyplot as plt\n",
    "%matplotlib inline\n",
    "\n",
    "# Gather source data set from TED. \n",
    "df = pd.read_csv('ted_main.csv')\n",
    "\n",
    "# List out the columns to understand data.\n",
    "df.columns"
   ]
  },
  {
   "cell_type": "code",
   "execution_count": 2,
   "metadata": {
    "collapsed": true
   },
   "outputs": [],
   "source": [
    "# Structure data by columns in this order.\n",
    "df = df[['name', 'title', 'description', 'main_speaker', 'speaker_occupation', 'num_speaker', 'duration', 'event', 'film_date', 'published_date', 'comments', 'tags', 'languages', 'ratings', 'related_talks', 'url', 'views']]\n",
    "\n",
    "# Change dates to a readable format. \n",
    "import datetime\n",
    "df['film_date'] = df['film_date'].apply(lambda x: datetime.datetime.fromtimestamp( int(x)).strftime('%m-%d-%Y'))\n",
    "df['published_date'] = df['published_date'].apply(lambda x: datetime.datetime.fromtimestamp( int(x)).strftime('%m-%d-%Y'))"
   ]
  },
  {
   "cell_type": "markdown",
   "metadata": {},
   "source": [
    "## II. What is great? Most viewed. \n",
    "\n",
    "What is a great TED Talk? While each viewer can debate on what adjective best describes a great TED Talk, an objective measure to use as a clear indicator of success for a TED Talk is the amount of views the video has received. For the purposes of this study, we will define great by the number of **views** a TED Talk gets.   "
   ]
  },
  {
   "cell_type": "markdown",
   "metadata": {},
   "source": [
    "### Which TED Talks are great? How many great TED Talks are there?\n",
    "\n",
    "To identify which videos received that most views, I first explore the distribution of views across all of the videos. This distribution will give us insight on where the outliers lie, which will help us answer the questions above."
   ]
  },
  {
   "cell_type": "code",
   "execution_count": 3,
   "metadata": {},
   "outputs": [
    {
     "data": {
      "image/png": "[encoded data removed]",
      "text/plain": [
       "<matplotlib.figure.Figure at 0x1c76e6e7278>"
      ]
     },
     "metadata": {},
     "output_type": "display_data"
    }
   ],
   "source": [
    "# Set dimensions for the chart.\n",
    "plt.figure(figsize=(13, 6))\n",
    "\n",
    "# Create boxplots for distribution of views. \n",
    "plt.subplot(1, 2, 1)\n",
    "plt.boxplot((df['views']/1000000))\n",
    "plt.title('Distribution of Views')\n",
    "plt.ylabel('View (in millions)')\n",
    "plt.yticks(np.arange(0,55,5))\n",
    "plt.grid()\n",
    "\n",
    "# Create same boxplot with zoomed in view to get a better idea of where outliers start.\n",
    "plt.subplot(1, 2, 2)\n",
    "plt.boxplot((df['views']/1000000))\n",
    "plt.title('Distribution of Views (Zoomed In)')\n",
    "plt.ylabel('View (in millions)')\n",
    "plt.ylim([0,4])\n",
    "plt.yticks(np.arange(0,4.1,.2))\n",
    "\n",
    "# Print the boxplots.\n",
    "plt.tight_layout()\n",
    "plt.grid()\n",
    "plt.show()"
   ]
  },
  {
   "cell_type": "code",
   "execution_count": 4,
   "metadata": {},
   "outputs": [
    {
     "data": {
      "text/plain": [
       "count    2550.000000\n",
       "mean        1.698297\n",
       "std         2.498479\n",
       "min         0.050443\n",
       "25%         0.755793\n",
       "50%         1.124524\n",
       "75%         1.700759\n",
       "max        47.227110\n",
       "Name: views, dtype: float64"
      ]
     },
     "execution_count": 4,
     "metadata": {},
     "output_type": "execute_result"
    }
   ],
   "source": [
    "# Print the summary statistics for views.\n",
    "(df['views']/1000000).describe()"
   ]
  },
  {
   "cell_type": "markdown",
   "metadata": {},
   "source": [
    "**Insight 1:** On average, a TED Talk receives *1.7 million views*.\n",
    "\n",
    "**Insight 2:** From the zoomed in boxplot, we find outliers starting approximately at *3.1 million views*. Based on our definition of great - which is the amount of views a video gets, **we now consider TED Talks with more than 3.1 million views great**.\n",
    "\n",
    "To find how many videos received more than 3.1 million views, we count."
   ]
  },
  {
   "cell_type": "code",
   "execution_count": 5,
   "metadata": {},
   "outputs": [
    {
     "name": "stdout",
     "output_type": "stream",
     "text": [
      "There are 247 TED Talks with more than 3.1 million views.\n"
     ]
    }
   ],
   "source": [
    "# Set initial count to zero.\n",
    "count = 0\n",
    "\n",
    "# Loop across views to count how many videos have more than 3.1 million views. \n",
    "for view in df['views']:\n",
    "    if view/1000000 > 3.1:\n",
    "        count += 1\n",
    "\n",
    "# Print total count.         \n",
    "print(\"There are \" + str(count) + \" TED Talks with more than 3.1 million views.\")"
   ]
  },
  {
   "cell_type": "markdown",
   "metadata": {},
   "source": [
    "### Findings:\n",
    "Videos with more than 3.1 million views are anomalies and are considered great, based on our definition. The amount of great TED Talks comes out to 247, which is about 10% of the total number of TED Talks in the dataset. 247 will be the dataset for the rest of our analysis.   "
   ]
  },
  {
   "cell_type": "code",
   "execution_count": 6,
   "metadata": {
    "collapsed": true,
    "scrolled": false
   },
   "outputs": [],
   "source": [
    "# Create a new pandas DataFrame for 247 TED Talk greats. \n",
    "ted_greats = df[['title', 'main_speaker','duration', 'speaker_occupation', 'views', 'tags']].sort_values('views', ascending=False).head(247)"
   ]
  },
  {
   "cell_type": "markdown",
   "metadata": {},
   "source": [
    "## III. What do great TED Talks have in common?\n",
    "\n",
    "Now that we have found the 247 TED Talks considered great, we can analyze what they have in common. Which variables affect outcomes? In this section, I explore how duration, speaker's occupation and themes contribute to outcomes. "
   ]
  },
  {
   "cell_type": "markdown",
   "metadata": {},
   "source": [
    "### Does the duration of a video affect outcomes?\n",
    "\n",
    "The first variable I analyze is duration. I first explore the relationship between duration and views through a scatter plot, then deep dive into understanding the distribution of duration through a histogram.  "
   ]
  },
  {
   "cell_type": "code",
   "execution_count": 7,
   "metadata": {},
   "outputs": [
    {
     "data": {
      "image/png": "[encoded data removed]",
      "text/plain": [
       "<matplotlib.figure.Figure at 0x1c76f1ad6d8>"
      ]
     },
     "metadata": {},
     "output_type": "display_data"
    }
   ],
   "source": [
    "# Set the dimensions for the chart.\n",
    "plt.figure(figsize=(13, 6))\n",
    "\n",
    "# Create scatter plot compare duration and views for TED's greats.\n",
    "plt.subplot(1, 2, 1)\n",
    "plt.scatter(x=ted_greats['duration']/60, y=ted_greats['views']/1000000, color='blue', alpha=.3)\n",
    "plt.title('Duration and Views for TED\\'s Greats')\n",
    "plt.ylabel('View Count (in millions)')\n",
    "plt.xlabel('Duration (mins)')\n",
    "plt.grid()\n",
    "\n",
    "# Create histogram to understand distribution of duration. \n",
    "plt.subplot(1, 2, 2)\n",
    "plt.hist(x=ted_greats['duration']/60, color='magenta', bins=np.arange(0, 40), width=.9, alpha=.4)\n",
    "plt.title('Distribution of Duration for TED\\'s Greats')\n",
    "plt.xlim([0, 40])\n",
    "plt.xticks(np.arange(0, 41, 4))\n",
    "plt.ylabel('Count')\n",
    "plt.xlabel('Duration (in minutes)')\n",
    "plt.grid()\n",
    "\n",
    "# Add a vertical line at the mean.\n",
    "plt.axvline((ted_greats['duration']/60).mean(), color='black', linestyle='solid', linewidth=2)\n",
    "\n",
    "# Add a vertical line at one standard deviation above the mean.\n",
    "plt.axvline((ted_greats['duration']/60).mean() + (ted_greats['duration']/60).std(), color='black', linestyle='dashed', linewidth=2, alpha=.5)\n",
    "\n",
    "# Add a vertical line at one standard deviation below the mean.\n",
    "plt.axvline((ted_greats['duration']/60).mean() - (ted_greats['duration']/60).std(), color='black', linestyle='dashed', linewidth=2, alpha=.5) \n",
    "\n",
    "# Print the scatter plots. \n",
    "plt.tight_layout()\n",
    "plt.show()"
   ]
  },
  {
   "cell_type": "code",
   "execution_count": 8,
   "metadata": {
    "scrolled": true
   },
   "outputs": [
    {
     "data": {
      "text/plain": [
       "array([[ 1.        ,  0.11142377],\n",
       "       [ 0.11142377,  1.        ]])"
      ]
     },
     "execution_count": 8,
     "metadata": {},
     "output_type": "execute_result"
    }
   ],
   "source": [
    "# Find correlation coefficient value between duration and views for TED's greats.\n",
    "np.corrcoef((ted_greats['duration']/60),(ted_greats['views']/1000000))"
   ]
  },
  {
   "cell_type": "code",
   "execution_count": 9,
   "metadata": {},
   "outputs": [
    {
     "data": {
      "text/plain": [
       "count    247.000000\n",
       "mean      14.452362\n",
       "std        6.429043\n",
       "min        2.983333\n",
       "25%        9.616667\n",
       "50%       14.816667\n",
       "75%       18.925000\n",
       "max       40.833333\n",
       "Name: duration, dtype: float64"
      ]
     },
     "execution_count": 9,
     "metadata": {},
     "output_type": "execute_result"
    }
   ],
   "source": [
    "# Provide summary statistics for duration among TED's greats.\n",
    "(ted_greats['duration']/60).describe()"
   ]
  },
  {
   "cell_type": "markdown",
   "metadata": {},
   "source": [
    "**Insight 3:** With a very weak positive correlation of .11, it is safe to say duration does not affect how many views a video receives among TED's greats. This speaks to how content is king at TED. TED is known for being a platform where you can reach a wide audience regardless of background as long as the content is substantive. This is great insight that **a TED speaker does not have to compromise quality of content for time**. \n",
    "\n",
    "**Insight 4:** Despite duration not being significantly important, there are some guidelines for TED speakers looking for a ballpark target range. The average duration among TED's greats is 14.5 minutes, and **68% of TED's greats fall within 8 to 21 minutes**. "
   ]
  },
  {
   "cell_type": "markdown",
   "metadata": {},
   "source": [
    "### Does the occupation of the speaker matter?\n",
    "\n",
    "The second variable I analyze is the occupation of the speaker. To examine which occupation appears the most among TED's greats, I leverage a bar graph. I first organize the DataFrame into a format with only the speaker's occupation and appearances. Then, I create a bar graph to display the occupations that make the most appearances. "
   ]
  },
  {
   "cell_type": "code",
   "execution_count": 10,
   "metadata": {
    "scrolled": true
   },
   "outputs": [
    {
     "data": {
      "text/html": [
       "<div>\n",
       "<style>\n",
       "    .dataframe thead tr:only-child th {\n",
       "        text-align: right;\n",
       "    }\n",
       "\n",
       "    .dataframe thead th {\n",
       "        text-align: left;\n",
       "    }\n",
       "\n",
       "    .dataframe tbody tr th {\n",
       "        vertical-align: top;\n",
       "    }\n",
       "</style>\n",
       "<table border=\"1\" class=\"dataframe\">\n",
       "  <thead>\n",
       "    <tr style=\"text-align: right;\">\n",
       "      <th></th>\n",
       "      <th>occupation</th>\n",
       "      <th>appearances</th>\n",
       "    </tr>\n",
       "  </thead>\n",
       "  <tbody>\n",
       "    <tr>\n",
       "      <th>169</th>\n",
       "      <td>Writer</td>\n",
       "      <td>16</td>\n",
       "    </tr>\n",
       "    <tr>\n",
       "      <th>138</th>\n",
       "      <td>Psychologist</td>\n",
       "      <td>8</td>\n",
       "    </tr>\n",
       "    <tr>\n",
       "      <th>57</th>\n",
       "      <td>Entrepreneur</td>\n",
       "      <td>6</td>\n",
       "    </tr>\n",
       "    <tr>\n",
       "      <th>84</th>\n",
       "      <td>Leadership expert</td>\n",
       "      <td>4</td>\n",
       "    </tr>\n",
       "    <tr>\n",
       "      <th>140</th>\n",
       "      <td>Psychologist; happiness expert</td>\n",
       "      <td>3</td>\n",
       "    </tr>\n",
       "    <tr>\n",
       "      <th>152</th>\n",
       "      <td>Social psychologist</td>\n",
       "      <td>3</td>\n",
       "    </tr>\n",
       "  </tbody>\n",
       "</table>\n",
       "</div>"
      ],
      "text/plain": [
       "                         occupation  appearances\n",
       "169                          Writer           16\n",
       "138                    Psychologist            8\n",
       "57                     Entrepreneur            6\n",
       "84                Leadership expert            4\n",
       "140  Psychologist; happiness expert            3\n",
       "152             Social psychologist            3"
      ]
     },
     "execution_count": 10,
     "metadata": {},
     "output_type": "execute_result"
    }
   ],
   "source": [
    "# Create new DataFrame to organize into occupations and appearances.\n",
    "occupation_ted_greats = ted_greats.groupby('speaker_occupation').count().reset_index()[['speaker_occupation', 'main_speaker']]\n",
    "occupation_ted_greats.columns = ['occupation', 'appearances']\n",
    "occupation_ted_greats = occupation_ted_greats.sort_values('appearances', ascending=False)\n",
    "\n",
    "# List the 6 occupations with most appearances. \n",
    "occupation_ted_greats.head(6)"
   ]
  },
  {
   "cell_type": "code",
   "execution_count": 11,
   "metadata": {
    "scrolled": true
   },
   "outputs": [
    {
     "data": {
      "image/png": "[encoded data removed]",
      "text/plain": [
       "<matplotlib.figure.Figure at 0x1c76efe93c8>"
      ]
     },
     "metadata": {},
     "output_type": "display_data"
    }
   ],
   "source": [
    "# Create bar graph to show which occupations appear the most.\n",
    "plt.figure(figsize=(15,5))\n",
    "sns.barplot(x='occupation', y='appearances', data=occupation_ted_greats.head(6))\n",
    "plt.title('Speaker\\'s Occupation')\n",
    "plt.show()"
   ]
  },
  {
   "cell_type": "markdown",
   "metadata": {},
   "source": [
    "**Insight 5:** Writers, psychologists, entrepreneurs and leadership experts make the most appearances on TED's greats. This insight suggests occupations with broad nature have had the best chances at becoming one of TED's greats. While it is not significant - as the top 6 occupations only represent 16% of TED's greats - these broad vocations made more appearances overall compared to niche occupations (i.e. Software Architect, Theoretical Physicist, Yo-yo Champion - each made an appearance). "
   ]
  },
  {
   "cell_type": "markdown",
   "metadata": {},
   "source": [
    "### Are there common themes amongst TED's greats?\n",
    "\n",
    "The last variable I analyze are themes. For each video, there are a few tags associated with it. To figure out which themes come up most amongst TED's greats, I aggregate a list of all of the tags mentioned across the 247 videos then count which tags are used most. "
   ]
  },
  {
   "cell_type": "code",
   "execution_count": 17,
   "metadata": {},
   "outputs": [],
   "source": [
    "# Import Python libraries.\n",
    "import ast\n",
    "ted_greats['tags'] = ted_greats['tags'].apply(lambda x: ast.literal_eval(x))"
   ]
  },
  {
   "cell_type": "code",
   "execution_count": 18,
   "metadata": {
    "collapsed": true
   },
   "outputs": [],
   "source": [
    "# Rename tags to theme. \n",
    "s = ted_greats.apply(lambda x: pd.Series(x['tags']),axis=1).stack().reset_index(level=1, drop=True)\n",
    "s.name = 'theme'"
   ]
  },
  {
   "cell_type": "code",
   "execution_count": 41,
   "metadata": {},
   "outputs": [
    {
     "data": {
      "text/html": [
       "<div>\n",
       "<style>\n",
       "    .dataframe thead tr:only-child th {\n",
       "        text-align: right;\n",
       "    }\n",
       "\n",
       "    .dataframe thead th {\n",
       "        text-align: left;\n",
       "    }\n",
       "\n",
       "    .dataframe tbody tr th {\n",
       "        vertical-align: top;\n",
       "    }\n",
       "</style>\n",
       "<table border=\"1\" class=\"dataframe\">\n",
       "  <thead>\n",
       "    <tr style=\"text-align: right;\">\n",
       "      <th></th>\n",
       "      <th>title</th>\n",
       "      <th>main_speaker</th>\n",
       "      <th>duration</th>\n",
       "      <th>speaker_occupation</th>\n",
       "      <th>views</th>\n",
       "      <th>theme</th>\n",
       "    </tr>\n",
       "  </thead>\n",
       "  <tbody>\n",
       "    <tr>\n",
       "      <th>0</th>\n",
       "      <td>Do schools kill creativity?</td>\n",
       "      <td>Ken Robinson</td>\n",
       "      <td>1164</td>\n",
       "      <td>Author/educator</td>\n",
       "      <td>47227110</td>\n",
       "      <td>children</td>\n",
       "    </tr>\n",
       "    <tr>\n",
       "      <th>0</th>\n",
       "      <td>Do schools kill creativity?</td>\n",
       "      <td>Ken Robinson</td>\n",
       "      <td>1164</td>\n",
       "      <td>Author/educator</td>\n",
       "      <td>47227110</td>\n",
       "      <td>creativity</td>\n",
       "    </tr>\n",
       "    <tr>\n",
       "      <th>0</th>\n",
       "      <td>Do schools kill creativity?</td>\n",
       "      <td>Ken Robinson</td>\n",
       "      <td>1164</td>\n",
       "      <td>Author/educator</td>\n",
       "      <td>47227110</td>\n",
       "      <td>culture</td>\n",
       "    </tr>\n",
       "    <tr>\n",
       "      <th>0</th>\n",
       "      <td>Do schools kill creativity?</td>\n",
       "      <td>Ken Robinson</td>\n",
       "      <td>1164</td>\n",
       "      <td>Author/educator</td>\n",
       "      <td>47227110</td>\n",
       "      <td>dance</td>\n",
       "    </tr>\n",
       "    <tr>\n",
       "      <th>0</th>\n",
       "      <td>Do schools kill creativity?</td>\n",
       "      <td>Ken Robinson</td>\n",
       "      <td>1164</td>\n",
       "      <td>Author/educator</td>\n",
       "      <td>47227110</td>\n",
       "      <td>education</td>\n",
       "    </tr>\n",
       "  </tbody>\n",
       "</table>\n",
       "</div>"
      ],
      "text/plain": [
       "                         title  main_speaker  duration speaker_occupation  \\\n",
       "0  Do schools kill creativity?  Ken Robinson      1164    Author/educator   \n",
       "0  Do schools kill creativity?  Ken Robinson      1164    Author/educator   \n",
       "0  Do schools kill creativity?  Ken Robinson      1164    Author/educator   \n",
       "0  Do schools kill creativity?  Ken Robinson      1164    Author/educator   \n",
       "0  Do schools kill creativity?  Ken Robinson      1164    Author/educator   \n",
       "\n",
       "      views       theme  \n",
       "0  47227110    children  \n",
       "0  47227110  creativity  \n",
       "0  47227110     culture  \n",
       "0  47227110       dance  \n",
       "0  47227110   education  "
      ]
     },
     "execution_count": 41,
     "metadata": {},
     "output_type": "execute_result"
    }
   ],
   "source": [
    "# Restructure dataset to separate each tag to be able to count themes.\n",
    "theme_ted_greats = ted_greats.drop('tags', axis=1).join(s)\n",
    "theme_ted_greats.head()"
   ]
  },
  {
   "cell_type": "code",
   "execution_count": 21,
   "metadata": {
    "scrolled": true
   },
   "outputs": [
    {
     "data": {
      "text/plain": [
       "274"
      ]
     },
     "execution_count": 21,
     "metadata": {},
     "output_type": "execute_result"
    }
   ],
   "source": [
    "# Count how many distint themes are out there.\n",
    "len(theme_ted_greats['theme'].value_counts())"
   ]
  },
  {
   "cell_type": "code",
   "execution_count": 22,
   "metadata": {},
   "outputs": [
    {
     "data": {
      "text/html": [
       "<div>\n",
       "<style>\n",
       "    .dataframe thead tr:only-child th {\n",
       "        text-align: right;\n",
       "    }\n",
       "\n",
       "    .dataframe thead th {\n",
       "        text-align: left;\n",
       "    }\n",
       "\n",
       "    .dataframe tbody tr th {\n",
       "        vertical-align: top;\n",
       "    }\n",
       "</style>\n",
       "<table border=\"1\" class=\"dataframe\">\n",
       "  <thead>\n",
       "    <tr style=\"text-align: right;\">\n",
       "      <th></th>\n",
       "      <th>theme</th>\n",
       "      <th>talks</th>\n",
       "    </tr>\n",
       "  </thead>\n",
       "  <tbody>\n",
       "    <tr>\n",
       "      <th>0</th>\n",
       "      <td>culture</td>\n",
       "      <td>82</td>\n",
       "    </tr>\n",
       "    <tr>\n",
       "      <th>1</th>\n",
       "      <td>technology</td>\n",
       "      <td>51</td>\n",
       "    </tr>\n",
       "    <tr>\n",
       "      <th>2</th>\n",
       "      <td>business</td>\n",
       "      <td>47</td>\n",
       "    </tr>\n",
       "    <tr>\n",
       "      <th>3</th>\n",
       "      <td>science</td>\n",
       "      <td>44</td>\n",
       "    </tr>\n",
       "    <tr>\n",
       "      <th>4</th>\n",
       "      <td>entertainment</td>\n",
       "      <td>44</td>\n",
       "    </tr>\n",
       "    <tr>\n",
       "      <th>5</th>\n",
       "      <td>psychology</td>\n",
       "      <td>40</td>\n",
       "    </tr>\n",
       "    <tr>\n",
       "      <th>6</th>\n",
       "      <td>TEDx</td>\n",
       "      <td>38</td>\n",
       "    </tr>\n",
       "    <tr>\n",
       "      <th>7</th>\n",
       "      <td>brain</td>\n",
       "      <td>30</td>\n",
       "    </tr>\n",
       "    <tr>\n",
       "      <th>8</th>\n",
       "      <td>global issues</td>\n",
       "      <td>28</td>\n",
       "    </tr>\n",
       "    <tr>\n",
       "      <th>9</th>\n",
       "      <td>work</td>\n",
       "      <td>24</td>\n",
       "    </tr>\n",
       "  </tbody>\n",
       "</table>\n",
       "</div>"
      ],
      "text/plain": [
       "           theme  talks\n",
       "0        culture     82\n",
       "1     technology     51\n",
       "2       business     47\n",
       "3        science     44\n",
       "4  entertainment     44\n",
       "5     psychology     40\n",
       "6           TEDx     38\n",
       "7          brain     30\n",
       "8  global issues     28\n",
       "9           work     24"
      ]
     },
     "execution_count": 22,
     "metadata": {},
     "output_type": "execute_result"
    }
   ],
   "source": [
    "# Create new DataFrame to include just the themes and the number of talks associated with it. \n",
    "pop_themes = pd.DataFrame(theme_ted_greats['theme'].value_counts()).reset_index()\n",
    "pop_themes.columns = ['theme', 'talks']\n",
    "pop_themes.head(10)"
   ]
  },
  {
   "cell_type": "code",
   "execution_count": 32,
   "metadata": {},
   "outputs": [
    {
     "data": {
      "image/png": "[encoded data removed]",
      "text/plain": [
       "<matplotlib.figure.Figure at 0x1c76ff67908>"
      ]
     },
     "metadata": {},
     "output_type": "display_data"
    }
   ],
   "source": [
    "# Creat bargraph with the top 10 most popular themes.\n",
    "plt.figure(figsize=(15,5))\n",
    "sns.barplot(x='theme', y='talks', data=pop_themes.head(10))\n",
    "plt.title('Most Popular Themes at TED')\n",
    "plt.show()"
   ]
  },
  {
   "cell_type": "markdown",
   "metadata": {},
   "source": [
    "**Insight 6:** **Culture, technology and business are the most popular** themes among TED's greats. TED is a great platform for discussing society's most pressing issues, so it makes sense that culture is a topic that resonates with the TED audience. Consistent with its Silicon Valley origins, it is no surprise that TED's popular themes include technology and business."
   ]
  },
  {
   "cell_type": "markdown",
   "metadata": {},
   "source": [
    "### Findings: \n",
    "After analyzing the relationship between a number of variables and outcomes, here are our findings: \n",
    "* **Duration**: Duration has a weak positive correlation with views (r=.11). But the sweet spot is between 8 to 21 minutes long. \n",
    "* **Speaker's Occupation**: Writers, Psychologists, Entrepreneurs and Leadership Experts appear most in TED's greats.\n",
    "* **Themes**: Culture, technology and business come up most among TED's greats."
   ]
  },
  {
   "cell_type": "markdown",
   "metadata": {},
   "source": [
    "## Summary \n",
    "After conducting this study, we found varying degrees of connection between variables and outcomes. This variability probably speaks to the importance of substantial content in TED talk videos and the opportunity the platform brings to connect with a wide-ranging audience regardless of background. \n",
    "\n",
    "We did find some great insights on TED's greats. The 247 videos, which attracted more than 3.1 million views each are anomalies and are considered great by our definition. And while we did not find strong correlations with the duration, aspiring TED speakers could take away a few guiding posts: keep the talk between 8 to 21 minutes, share boldly if you are coming from a broad background and focus on the topics of culture, technology and business to relate with the TED audience around the world. \n",
    "\n",
    "### Topics for Further Research\n",
    "The study can be extended into deeper analytics by leveraging the following advanced data science techniques:\n",
    "* **Network Analytics:** How does being related to the top 247 videos increase a TED Talks chances of becoming great? By studying how related videos create networks, we could find out how it affects outcomes, such as shares, ratings and views.\n",
    "* **Natural Language Processing and Sentiment Analysis**: How can we predict which videos will become great in the future using descriptions? One area I would like to explore is creating a model to read through the description for each video and associating sentiments to common terms that come up. Through this model, we would potentiall predict how viewers will feel about the content presented and measure how those sentiments in comparison to the sentiments present in the top 247 today.  "
   ]
  }
 ],
 "metadata": {
  "kernelspec": {
   "display_name": "Python 3",
   "language": "python",
   "name": "python3"
  },
  "language_info": {
   "codemirror_mode": {
    "name": "ipython",
    "version": 3
   },
   "file_extension": ".py",
   "mimetype": "text/x-python",
   "name": "python",
   "nbconvert_exporter": "python",
   "pygments_lexer": "ipython3",
   "version": "3.6.3"
  }
 },
 "nbformat": 4,
 "nbformat_minor": 2
}
